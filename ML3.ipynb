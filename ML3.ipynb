{
 "cells": [
  {
   "cell_type": "code",
   "execution_count": 4,
   "metadata": {},
   "outputs": [],
   "source": [
    "import numpy as np\n",
    "import random\n",
    "import matplotlib as plt\n",
    "\n",
    "# Plot\n",
    "import matplotlib.pyplot as plt\n",
    "import seaborn as sns\n",
    "\n",
    "\n",
    "#import time\n"
   ]
  },
  {
   "cell_type": "code",
   "execution_count": 5,
   "metadata": {},
   "outputs": [],
   "source": [
    "%matplotlib inline\n",
    "plt.rcParams['figure.figsize'] = [12, 6]\n",
    "\n",
    "# define plt and sns styles\n",
    "sns.set_style(\"whitegrid\")\n",
    "sns.set_palette(\"Set2\")"
   ]
  },
  {
   "cell_type": "code",
   "execution_count": 3,
   "metadata": {},
   "outputs": [],
   "source": [
    "# Grid Dimensions\n",
    "GRID_WIDTH = 10\n",
    "GRID_HEIGHT = 10\n",
    "\n",
    "# Actions\n",
    "ACTIONS = [(-1, 0), (0, -1), (1, 0), (0, 1), (-1, -1), (-1, 1), (1, -1), (1, 1), (0, 0)]  \n",
    "\n",
    "# Hyperparameters\n",
    "GAMMA = 0.9  # Discount factor\n",
    "NUM_EPISODES = 5000 \n",
    "\n",
    "def create_grid(obstacles, target):\n",
    "    \"\"\"Creates the grid world with obstacles and a target cell.\"\"\"\n",
    "    grid = np.zeros((GRID_HEIGHT, GRID_WIDTH))\n",
    "    for obs in obstacles:\n",
    "        grid[obs[0], obs[1]] = -1  # Represent obstacles\n",
    "    grid[target[0], target[1]] = 1  # Represent target\n",
    "    return grid\n",
    "\n",
    "def get_random_start_state():\n",
    "    \"\"\"Returns a random valid starting position.\"\"\"\n",
    "    while True:\n",
    "        x = random.randint(0, GRID_WIDTH - 1)\n",
    "        y = 0  # Starting line\n",
    "        if grid[y, x] == 0:\n",
    "            return x, y\n",
    "\n",
    "def check_collision(grid, x, y):\n",
    "    \"\"\"Checks for collisions with walls or obstacles.\"\"\"\n",
    "    if x < 0 or x >= GRID_WIDTH or y < 0 or y >= GRID_HEIGHT or grid[y, x] == -1:\n",
    "        return True\n",
    "    return False\n",
    "\n",
    "def simulate_episode(grid, policy):\n",
    "    \"\"\"Generates an episode from a random start state using the given policy.\"\"\"\n",
    "    x, y = get_random_start_state()\n",
    "    vx, vy = 0, 0\n",
    "    episode_log = []  # Store (state, action, reward) transitions\n",
    "\n",
    "    while True:\n",
    "        state = (x, y, vx, vy)\n",
    "        action = policy[state]\n",
    "\n",
    "        # Take action and update velocity\n",
    "        if not (vx == 0 and vy == 0) or action != (0, 0):\n",
    "            vx = min(max(-3, vx + ACTIONS[action][0]), 3)\n",
    "            vy = min(max(-3, vy + ACTIONS[action][1]), 3)\n",
    "\n",
    "        # Update position and check collisions\n",
    "        new_x, new_y = x + vx, y + vy\n",
    "        if check_collision(grid, new_x, new_y):\n",
    "            x, y = get_random_start_state()\n",
    "            vx, vy = 0, 0\n",
    "            reward = -10  # Collision penalty\n",
    "        else:\n",
    "            x, y = new_x, new_y\n",
    "            reward = -1\n",
    "            \n",
    "        episode_log.append((state, action, reward))\n",
    "\n",
    "        # Check if target reached\n",
    "        if grid[y, x] == 1:  \n",
    "            reward = 10  \n",
    "            episode_log.append((state, action, reward)) \n",
    "            break\n",
    "    \n",
    "    return episode_log\n"
   ]
  },
  {
   "cell_type": "code",
   "execution_count": null,
   "metadata": {},
   "outputs": [],
   "source": [
    "# implement policy\n",
    "\n"
   ]
  }
 ],
 "metadata": {
  "kernelspec": {
   "display_name": "Python 3.7 (myenv-python37)",
   "language": "python",
   "name": "myenv-python37"
  },
  "language_info": {
   "codemirror_mode": {
    "name": "ipython",
    "version": 3
   },
   "file_extension": ".py",
   "mimetype": "text/x-python",
   "name": "python",
   "nbconvert_exporter": "python",
   "pygments_lexer": "ipython3",
   "version": "3.11.5"
  }
 },
 "nbformat": 4,
 "nbformat_minor": 2
}
